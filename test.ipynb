{
 "cells": [
  {
   "cell_type": "code",
   "execution_count": 1,
   "metadata": {},
   "outputs": [
    {
     "data": {
      "text/plain": [
       "{'_id': ObjectId('6748518969e626dfb1974776'),\n",
       " 'site_id': 'u12dz01z0je6',\n",
       " 'brand': \"Sainsbury's\",\n",
       " 'address': 'High Street',\n",
       " 'postcode': 'NR17 2EH',\n",
       " 'location': {'type': 'Point', 'coordinates': [1.01315, 52.51588]},\n",
       " 'prices': {'E10': 135.9, 'E5': 147.9, 'B7': 140.9}}"
      ]
     },
     "execution_count": 1,
     "metadata": {},
     "output_type": "execute_result"
    }
   ],
   "source": [
    "import pymongo\n",
    "from dotenv import load_dotenv\n",
    "import os\n",
    "\n",
    "load_dotenv()\n",
    "conn_str = os.environ.get(\"MONGO_CONNSTR\")\n",
    "\n",
    "client = pymongo.MongoClient(conn_str, connect=False, socketTimeOutMS=60000, serverSelectionTimeoutMS = 60000)\n",
    "fuel_db = client[\"fuel_db\"]\n",
    "fuel_col = fuel_db[\"fuel_col\"]\n",
    "\n",
    "fuel_col.find_one()"
   ]
  },
  {
   "cell_type": "code",
   "execution_count": null,
   "metadata": {},
   "outputs": [],
   "source": []
  }
 ],
 "metadata": {
  "kernelspec": {
   "display_name": "fuel-env",
   "language": "python",
   "name": "python3"
  },
  "language_info": {
   "codemirror_mode": {
    "name": "ipython",
    "version": 3
   },
   "file_extension": ".py",
   "mimetype": "text/x-python",
   "name": "python",
   "nbconvert_exporter": "python",
   "pygments_lexer": "ipython3",
   "version": "3.11.9"
  }
 },
 "nbformat": 4,
 "nbformat_minor": 2
}
